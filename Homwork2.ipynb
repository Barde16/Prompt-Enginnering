{
  "nbformat": 4,
  "nbformat_minor": 0,
  "metadata": {
    "colab": {
      "provenance": []
    },
    "kernelspec": {
      "name": "python3",
      "display_name": "Python 3"
    },
    "language_info": {
      "name": "python"
    }
  },
  "cells": [
    {
      "cell_type": "code",
      "execution_count": 8,
      "metadata": {
        "colab": {
          "base_uri": "https://localhost:8080/"
        },
        "id": "oNiKkp-McVxW",
        "outputId": "534ec3f4-642c-4b14-e0a4-4aca78dce4a7"
      },
      "outputs": [
        {
          "output_type": "stream",
          "name": "stdout",
          "text": [
            "Requirement already satisfied: langchain in /usr/local/lib/python3.10/dist-packages (0.2.14)\n",
            "Requirement already satisfied: groq in /usr/local/lib/python3.10/dist-packages (0.9.0)\n",
            "Requirement already satisfied: PyYAML>=5.3 in /usr/local/lib/python3.10/dist-packages (from langchain) (6.0.2)\n",
            "Requirement already satisfied: SQLAlchemy<3,>=1.4 in /usr/local/lib/python3.10/dist-packages (from langchain) (2.0.32)\n",
            "Requirement already satisfied: aiohttp<4.0.0,>=3.8.3 in /usr/local/lib/python3.10/dist-packages (from langchain) (3.10.5)\n",
            "Requirement already satisfied: async-timeout<5.0.0,>=4.0.0 in /usr/local/lib/python3.10/dist-packages (from langchain) (4.0.3)\n",
            "Requirement already satisfied: langchain-core<0.3.0,>=0.2.32 in /usr/local/lib/python3.10/dist-packages (from langchain) (0.2.35)\n",
            "Requirement already satisfied: langchain-text-splitters<0.3.0,>=0.2.0 in /usr/local/lib/python3.10/dist-packages (from langchain) (0.2.2)\n",
            "Requirement already satisfied: langsmith<0.2.0,>=0.1.17 in /usr/local/lib/python3.10/dist-packages (from langchain) (0.1.105)\n",
            "Requirement already satisfied: numpy<2,>=1 in /usr/local/lib/python3.10/dist-packages (from langchain) (1.26.4)\n",
            "Requirement already satisfied: pydantic<3,>=1 in /usr/local/lib/python3.10/dist-packages (from langchain) (2.8.2)\n",
            "Requirement already satisfied: requests<3,>=2 in /usr/local/lib/python3.10/dist-packages (from langchain) (2.32.3)\n",
            "Requirement already satisfied: tenacity!=8.4.0,<9.0.0,>=8.1.0 in /usr/local/lib/python3.10/dist-packages (from langchain) (8.5.0)\n",
            "Requirement already satisfied: anyio<5,>=3.5.0 in /usr/local/lib/python3.10/dist-packages (from groq) (3.7.1)\n",
            "Requirement already satisfied: distro<2,>=1.7.0 in /usr/lib/python3/dist-packages (from groq) (1.7.0)\n",
            "Requirement already satisfied: httpx<1,>=0.23.0 in /usr/local/lib/python3.10/dist-packages (from groq) (0.27.2)\n",
            "Requirement already satisfied: sniffio in /usr/local/lib/python3.10/dist-packages (from groq) (1.3.1)\n",
            "Requirement already satisfied: typing-extensions<5,>=4.7 in /usr/local/lib/python3.10/dist-packages (from groq) (4.12.2)\n",
            "Requirement already satisfied: aiohappyeyeballs>=2.3.0 in /usr/local/lib/python3.10/dist-packages (from aiohttp<4.0.0,>=3.8.3->langchain) (2.4.0)\n",
            "Requirement already satisfied: aiosignal>=1.1.2 in /usr/local/lib/python3.10/dist-packages (from aiohttp<4.0.0,>=3.8.3->langchain) (1.3.1)\n",
            "Requirement already satisfied: attrs>=17.3.0 in /usr/local/lib/python3.10/dist-packages (from aiohttp<4.0.0,>=3.8.3->langchain) (24.2.0)\n",
            "Requirement already satisfied: frozenlist>=1.1.1 in /usr/local/lib/python3.10/dist-packages (from aiohttp<4.0.0,>=3.8.3->langchain) (1.4.1)\n",
            "Requirement already satisfied: multidict<7.0,>=4.5 in /usr/local/lib/python3.10/dist-packages (from aiohttp<4.0.0,>=3.8.3->langchain) (6.0.5)\n",
            "Requirement already satisfied: yarl<2.0,>=1.0 in /usr/local/lib/python3.10/dist-packages (from aiohttp<4.0.0,>=3.8.3->langchain) (1.9.4)\n",
            "Requirement already satisfied: idna>=2.8 in /usr/local/lib/python3.10/dist-packages (from anyio<5,>=3.5.0->groq) (3.7)\n",
            "Requirement already satisfied: exceptiongroup in /usr/local/lib/python3.10/dist-packages (from anyio<5,>=3.5.0->groq) (1.2.2)\n",
            "Requirement already satisfied: certifi in /usr/local/lib/python3.10/dist-packages (from httpx<1,>=0.23.0->groq) (2024.7.4)\n",
            "Requirement already satisfied: httpcore==1.* in /usr/local/lib/python3.10/dist-packages (from httpx<1,>=0.23.0->groq) (1.0.5)\n",
            "Requirement already satisfied: h11<0.15,>=0.13 in /usr/local/lib/python3.10/dist-packages (from httpcore==1.*->httpx<1,>=0.23.0->groq) (0.14.0)\n",
            "Requirement already satisfied: jsonpatch<2.0,>=1.33 in /usr/local/lib/python3.10/dist-packages (from langchain-core<0.3.0,>=0.2.32->langchain) (1.33)\n",
            "Requirement already satisfied: packaging<25,>=23.2 in /usr/local/lib/python3.10/dist-packages (from langchain-core<0.3.0,>=0.2.32->langchain) (24.1)\n",
            "Requirement already satisfied: orjson<4.0.0,>=3.9.14 in /usr/local/lib/python3.10/dist-packages (from langsmith<0.2.0,>=0.1.17->langchain) (3.10.7)\n",
            "Requirement already satisfied: annotated-types>=0.4.0 in /usr/local/lib/python3.10/dist-packages (from pydantic<3,>=1->langchain) (0.7.0)\n",
            "Requirement already satisfied: pydantic-core==2.20.1 in /usr/local/lib/python3.10/dist-packages (from pydantic<3,>=1->langchain) (2.20.1)\n",
            "Requirement already satisfied: charset-normalizer<4,>=2 in /usr/local/lib/python3.10/dist-packages (from requests<3,>=2->langchain) (3.3.2)\n",
            "Requirement already satisfied: urllib3<3,>=1.21.1 in /usr/local/lib/python3.10/dist-packages (from requests<3,>=2->langchain) (2.0.7)\n",
            "Requirement already satisfied: greenlet!=0.4.17 in /usr/local/lib/python3.10/dist-packages (from SQLAlchemy<3,>=1.4->langchain) (3.0.3)\n",
            "Requirement already satisfied: jsonpointer>=1.9 in /usr/local/lib/python3.10/dist-packages (from jsonpatch<2.0,>=1.33->langchain-core<0.3.0,>=0.2.32->langchain) (3.0.0)\n",
            "Requirement already satisfied: langchain-groq in /usr/local/lib/python3.10/dist-packages (0.1.9)\n",
            "Requirement already satisfied: groq in /usr/local/lib/python3.10/dist-packages (0.9.0)\n",
            "Requirement already satisfied: langchain-core<0.3.0,>=0.2.26 in /usr/local/lib/python3.10/dist-packages (from langchain-groq) (0.2.35)\n",
            "Requirement already satisfied: anyio<5,>=3.5.0 in /usr/local/lib/python3.10/dist-packages (from groq) (3.7.1)\n",
            "Requirement already satisfied: distro<2,>=1.7.0 in /usr/lib/python3/dist-packages (from groq) (1.7.0)\n",
            "Requirement already satisfied: httpx<1,>=0.23.0 in /usr/local/lib/python3.10/dist-packages (from groq) (0.27.2)\n",
            "Requirement already satisfied: pydantic<3,>=1.9.0 in /usr/local/lib/python3.10/dist-packages (from groq) (2.8.2)\n",
            "Requirement already satisfied: sniffio in /usr/local/lib/python3.10/dist-packages (from groq) (1.3.1)\n",
            "Requirement already satisfied: typing-extensions<5,>=4.7 in /usr/local/lib/python3.10/dist-packages (from groq) (4.12.2)\n",
            "Requirement already satisfied: idna>=2.8 in /usr/local/lib/python3.10/dist-packages (from anyio<5,>=3.5.0->groq) (3.7)\n",
            "Requirement already satisfied: exceptiongroup in /usr/local/lib/python3.10/dist-packages (from anyio<5,>=3.5.0->groq) (1.2.2)\n",
            "Requirement already satisfied: certifi in /usr/local/lib/python3.10/dist-packages (from httpx<1,>=0.23.0->groq) (2024.7.4)\n",
            "Requirement already satisfied: httpcore==1.* in /usr/local/lib/python3.10/dist-packages (from httpx<1,>=0.23.0->groq) (1.0.5)\n",
            "Requirement already satisfied: h11<0.15,>=0.13 in /usr/local/lib/python3.10/dist-packages (from httpcore==1.*->httpx<1,>=0.23.0->groq) (0.14.0)\n",
            "Requirement already satisfied: PyYAML>=5.3 in /usr/local/lib/python3.10/dist-packages (from langchain-core<0.3.0,>=0.2.26->langchain-groq) (6.0.2)\n",
            "Requirement already satisfied: jsonpatch<2.0,>=1.33 in /usr/local/lib/python3.10/dist-packages (from langchain-core<0.3.0,>=0.2.26->langchain-groq) (1.33)\n",
            "Requirement already satisfied: langsmith<0.2.0,>=0.1.75 in /usr/local/lib/python3.10/dist-packages (from langchain-core<0.3.0,>=0.2.26->langchain-groq) (0.1.105)\n",
            "Requirement already satisfied: packaging<25,>=23.2 in /usr/local/lib/python3.10/dist-packages (from langchain-core<0.3.0,>=0.2.26->langchain-groq) (24.1)\n",
            "Requirement already satisfied: tenacity!=8.4.0,<9.0.0,>=8.1.0 in /usr/local/lib/python3.10/dist-packages (from langchain-core<0.3.0,>=0.2.26->langchain-groq) (8.5.0)\n",
            "Requirement already satisfied: annotated-types>=0.4.0 in /usr/local/lib/python3.10/dist-packages (from pydantic<3,>=1.9.0->groq) (0.7.0)\n",
            "Requirement already satisfied: pydantic-core==2.20.1 in /usr/local/lib/python3.10/dist-packages (from pydantic<3,>=1.9.0->groq) (2.20.1)\n",
            "Requirement already satisfied: jsonpointer>=1.9 in /usr/local/lib/python3.10/dist-packages (from jsonpatch<2.0,>=1.33->langchain-core<0.3.0,>=0.2.26->langchain-groq) (3.0.0)\n",
            "Requirement already satisfied: orjson<4.0.0,>=3.9.14 in /usr/local/lib/python3.10/dist-packages (from langsmith<0.2.0,>=0.1.75->langchain-core<0.3.0,>=0.2.26->langchain-groq) (3.10.7)\n",
            "Requirement already satisfied: requests<3,>=2 in /usr/local/lib/python3.10/dist-packages (from langsmith<0.2.0,>=0.1.75->langchain-core<0.3.0,>=0.2.26->langchain-groq) (2.32.3)\n",
            "Requirement already satisfied: charset-normalizer<4,>=2 in /usr/local/lib/python3.10/dist-packages (from requests<3,>=2->langsmith<0.2.0,>=0.1.75->langchain-core<0.3.0,>=0.2.26->langchain-groq) (3.3.2)\n",
            "Requirement already satisfied: urllib3<3,>=1.21.1 in /usr/local/lib/python3.10/dist-packages (from requests<3,>=2->langsmith<0.2.0,>=0.1.75->langchain-core<0.3.0,>=0.2.26->langchain-groq) (2.0.7)\n"
          ]
        }
      ],
      "source": [
        "!pip install langchain groq\n",
        "!pip install langchain-groq groq"
      ]
    },
    {
      "cell_type": "code",
      "source": [
        "#Basic code to initialize the Groq API and setup the LLM.\n",
        "from langchain_groq import ChatGroq\n",
        "from langchain.chains import LLMChain\n",
        "import os\n",
        "\n",
        "# Set your Groq API key\n",
        "os.environ[\"GROQ_API_KEY\"] = \"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\"\n",
        "\n",
        "# Initialize the Groq LLM\n",
        "llm = ChatGroq(model_name=\"mixtral-8x7b-32768\")\n",
        ""
      ],
      "metadata": {
        "id": "xgTnbf4Ned-S"
      },
      "execution_count": 9,
      "outputs": []
    },
    {
      "cell_type": "code",
      "source": [
        "Question 1: Chain-of-Thought Prompting Implement a Chain-of-Thought prompting system to solve word problems. Your system should break down the problem-solving process into steps and show its reasoning.\n",
        "\n",
        "Task:\n",
        "\n",
        "● Create a function that takes a word problem as input.\n",
        "\n",
        "● Use the OpenAI API or any other LLM API to generate a step-by-step solution.\n",
        "\n",
        "● The output should show each step of the reasoning process.\n",
        "\n",
        "● Test your function with at least two word problems of varying complexity.\n",
        "\n",
        "Example word problem: \"A baker has 150 eggs. If each cake requires 3 eggs and each cookie requires 2 eggs, how many cakes and cookies can the baker make if they want to use all the eggs and make an equal number of each?\""
      ],
      "metadata": {
        "id": "jBGHC3WKgusK"
      },
      "execution_count": null,
      "outputs": []
    },
    {
      "cell_type": "code",
      "source": [
        "from langchain_core.messages import AIMessage, HumanMessage, SystemMessage\n",
        "from langchain.prompts import Prompt\n",
        "\n",
        "#Setup HumanMessage, SystemMessage for simple prompt.\n",
        "\n",
        "example = \"\"\"\n",
        "Question: Maria has 8 apples. she  gives 5 apples to her friend. how many apples does Maria have left?\n",
        "Answer:\n",
        "\n",
        "Question: Sara bakes 12 cookies. She eats 3 cookies. how many cookies does Sara have left?\n",
        "Answer:\n",
        "\"\"\"\n",
        "human_message = HumanMessage(content=example)\n",
        "system_message = SystemMessage(content=\"You are helpful assistant.\")\n",
        "\n",
        "\n",
        "new_prompt = (system_message + human_message)\n",
        "\n",
        "print (f\"Prompt: {new_prompt}\")\n",
        "\n",
        "chain = LLMChain(llm=llm, prompt=new_prompt)\n",
        "reponse = chain.run({})\n",
        "print(f\"Response: {reponse}\")\n"
      ],
      "metadata": {
        "colab": {
          "base_uri": "https://localhost:8080/"
        },
        "id": "2naKiURQh5P6",
        "outputId": "50e559ea-e1d6-4c1d-e161-d74a186f89e5"
      },
      "execution_count": 4,
      "outputs": [
        {
          "output_type": "stream",
          "name": "stdout",
          "text": [
            "Prompt: input_variables=[] messages=[SystemMessage(content='You are helpful assistant.'), HumanMessage(content='\\nQuestion: Maria has 8 apples. she  gives 5 apples to her friend. how many apples does Maria have left?\\nAnswer: \\n\\nQuestion: Sara bakes 12 cookies. She eats 3 cookies. how many cookies does Sara have left?\\nAnswer:\\n')]\n",
            "Response: Maria has 3 apples left.\n",
            "\n",
            "Sara has 9 cookies left.\n"
          ]
        }
      ]
    },
    {
      "cell_type": "code",
      "source": [
        "example = \"\"\"\n",
        "Question: A farmar wants to build a fance around his rectangular field.The field is 10 meters long and 5 meters wide.How many meters of fencing does he need?\n",
        "\n",
        "Answer:\n",
        "\"\"\"\n",
        "\n",
        "human_message = HumanMessage(content=example)\n",
        "system_message = SystemMessage(content=\"You are helpful assistant.\")\n",
        "\n",
        "\n",
        "cot_prompt = (system_message + human_message)\n",
        "\n",
        "print (f\"Prompt: {cot_prompt}\")\n",
        "\n",
        "chain = LLMChain(llm=llm, prompt=cot_prompt)\n",
        "reponse = chain.run({})\n",
        "print(f\"Response: {reponse}\")"
      ],
      "metadata": {
        "colab": {
          "base_uri": "https://localhost:8080/"
        },
        "id": "mr5yMF7eiA1Y",
        "outputId": "70d05358-c07d-4a91-d4c4-976d1900a0dd"
      },
      "execution_count": 5,
      "outputs": [
        {
          "output_type": "stream",
          "name": "stdout",
          "text": [
            "Prompt: input_variables=[] messages=[SystemMessage(content='You are helpful assistant.'), HumanMessage(content='\\nQuestion: A farmar wants to build a fance around his rectangular field.The field is 10 meters long and 5 meters wide.How many meters of fencing does he need?\\n\\nAnswer:\\n')]\n",
            "Response: Hello! I'd be happy to help you with that.\n",
            "\n",
            "To determine the amount of fencing needed, we need to calculate the perimeter of the rectangular field. The formula for the perimeter of a rectangle is:\n",
            "\n",
            "Perimeter = 2(Length + Width)\n",
            "\n",
            "In this case, the length of the field is 10 meters and the width is 5 meters. Plugging these values into the formula, we get:\n",
            "\n",
            "Perimeter = 2(10 meters + 5 meters)\n",
            "          = 2(15 meters)\n",
            "          = 30 meters\n",
            "\n",
            "So, the farmer will need 30 meters of fencing to enclose his field. I hope this answers your question! Is there anything else you'd like to know?\n"
          ]
        }
      ]
    },
    {
      "cell_type": "code",
      "source": [
        "Question 2: Prompt-chaining Develop a prompt-chaining system that generates a short story based on user input. Thesystem should use multiple prompts in sequence, with each prompt building on the output of theprevious one.\n",
        "\n",
        "Task:\n",
        "\n",
        "● Create a series of at least 3 prompts that will be chained together.\n",
        "\n",
        "● The first prompt should ask for a genre and main character.\n",
        "\n",
        "● Subsequent prompts should build on previous outputs to develop the plot and conclusion.\n",
        "\n",
        "● Implement the chaining logic to pass information between prompts.\n",
        "\n",
        "● Allow the user to input the initial genre and main character.\n",
        "\n",
        "● Output the final story generated through the chain."
      ],
      "metadata": {
        "id": "_kpgUnosi5AK"
      },
      "execution_count": null,
      "outputs": []
    },
    {
      "cell_type": "code",
      "source": [
        "# System message setup\n",
        "system_message = SystemMessage(content=\"You are a creative assistant for generating short stories.\")\n",
        "\n",
        "# Prompt 1: Get genre and main character\n",
        "initial_prompt = HumanMessage(content=\"Provide a genre and a main character for a short story.\")\n",
        "\n",
        "# Create the chain and get the genre and character\n",
        "chain1 = LLMChain(llm=llm, prompt=system_message + initial_prompt)\n",
        "response1 = chain1.run({})\n",
        "\n",
        "try:\n",
        "    genre, character = response1.split(', ')\n",
        "except ValueError as e:\n",
        "    print(f\"Error parsing response: {e}\")\n",
        "    genre, character = None, None\n",
        "\n",
        "# Example response\n",
        "response1 = \"Drama,Frozen\"\n",
        "print(f\"Genre: {genre}, \\nCharacter: {character}\")\n",
        "\n",
        "# Prompt 2: Develop the plot based on the genre and character\n",
        "plot_prompt = HumanMessage(content=f\"Based on the genre '{genre}' and the main character '{character}', write a brief plot outline for a short story.\")\n",
        "\n",
        "# Create the chain and get the plot\n",
        "chain2 = LLMChain(llm=llm, prompt=system_message + plot_prompt)\n",
        "plot = chain2.run({})\n",
        "\n",
        "# Prompt 3: Write the conclusion based on the plot\n",
        "conclusion_prompt = HumanMessage(content=f\"Based on the plot outline provided, write the conclusion for the short story.\")\n",
        "\n",
        "# Create the chain and get the conclusion\n",
        "chain3 = LLMChain(llm=llm, prompt=system_message + conclusion_prompt)\n",
        "conclusion = chain3.run({})\n",
        "\n",
        "# Combine all parts to form the final story\n",
        "final_story = f\"Genre: {genre}\\nMain Character: {character}\\nPlot: {plot}\\nConclusion: {conclusion}\"\n",
        "print(final_story)\n",
        ""
      ],
      "metadata": {
        "colab": {
          "base_uri": "https://localhost:8080/"
        },
        "id": "G-nvSWwUjCph",
        "outputId": "f1c873a1-0b1f-41e2-aac5-57db5f7b853d"
      },
      "execution_count": 6,
      "outputs": [
        {
          "output_type": "stream",
          "name": "stdout",
          "text": [
            "Error parsing response: too many values to unpack (expected 2)\n",
            "Genre: None, \n",
            "Character: None\n",
            "Genre: None\n",
            "Main Character: None\n",
            "Plot: Title: The Infinite Blank\n",
            "\n",
            "In a world where everything is written, a mysterious character known as The Blank emerges. The Blank is an anomaly, a being with no predetermined story, no fixed fate, and no written past or future. They are a canvas of infinite possibilities, a paradox in a universe where stories are etched in stone.\n",
            "\n",
            "The Blank, however, is not content with their existence. They yearn for a story, for a purpose, for a destination. They embark on a journey to find an author who can give them a story, meeting various authors along the way, each with their unique styles and genres. Yet, none of their stories seem to fit The Blank.\n",
            "\n",
            "In their quest, The Blank stumbles upon a reclusive author, known as The End, who is famous for writing the most tragic and melancholic tales. The End, amused by The Blank's existence, proposes a challenge: if The Blank can survive a story written by The End, they will earn their own story.\n",
            "\n",
            "The Blank agrees, and The End writes a story filled with trials, tribulations, and sorrow. But to everyone's surprise, The Blank not only survives but also thrives, turning the tragic tale into a story of resilience and hope. \n",
            "\n",
            "Impressed, The End grants The Blank their wish, writing a story of their own. But instead of a fixed narrative, The End writes a story of infinite possibilities, a story that changes and evolves with The Blank's actions and decisions. \n",
            "\n",
            "In the end, The Blank becomes not just a character with a story, but a character with the power to create their own story, a testament to the power of choice and the beauty of the infinite blank.\n",
            "Conclusion: Plot Outline:\n",
            "\n",
            "In a world where people can swap bodies with animals, a young girl named Lily swaps bodies with a dolphin to escape her abusive home life. She experiences the beauty and freedom of ocean life but realizes that she can't stay in the dolphin's body forever. With the help of a kind sea turtle, she devises a plan to return to her human form and expose her father's abuse.\n",
            "\n",
            "Conclusion:\n",
            "\n",
            "Lily, now back in her own body, stood before the judge, her father's abuse exposed for all to see. As she recounted her experiences living as a dolphin, she couldn't help but feel a pang of longing for the ocean's embrace. But she knew she had made the right choice.\n",
            "\n",
            "With the support of her newfound friends in the animal community and the love of her caring mother, Lily began to heal from the trauma she had endured. She even started a campaign to raise awareness about body-swapping abuse and advocated for stronger regulations to protect those who chose to explore this magical world.\n",
            "\n",
            "As she looked out at the ocean, Lily smiled, knowing that she had found her voice and her freedom, both in and out of the water. The ocean was still there, always ready to welcome her back, but for now, she had a new world to explore and conquer, and she was ready.\n"
          ]
        }
      ]
    },
    {
      "cell_type": "code",
      "source": [
        "Question 3: Tree-of-Thought Prompting Implement a Tree-of-Thought prompting system to solve a complex problem. The system should explore multiple paths of reasoning and select the most promising one. Task:\n",
        "\n",
        "● Create a function that takes a complex problem as input.\n",
        "\n",
        "● Generate at least 3 different initial approaches to solving the problem.\n",
        "\n",
        "● For each approach, develop 2-3 possible next steps.\n",
        "\n",
        "● Implement a method to evaluate the promise of each path.\n",
        "\n",
        "● Select the most promising path and generate a final solution.\n",
        "\n",
        "● Test your system with the following problem:\n",
        "\n",
        "Problem: \"Design a sustainable urban transportation system for a city of 1 million people. Consider factors such as environmental impact, cost-effectiveness, and accessibility for all residents.\""
      ],
      "metadata": {
        "id": "84tTVdYRkNuT"
      },
      "execution_count": null,
      "outputs": []
    },
    {
      "cell_type": "code",
      "source": [
        "from langchain import PromptTemplate, LLMChain\n",
        "from langchain.chains import SimpleSequentialChain\n",
        "\n",
        "# First prompt template\n",
        "first_prompt = PromptTemplate(\n",
        "    input_variables=[\"topic\"],\n",
        "    template=\"Write a short introduction about {topic}.\"\n",
        ")\n",
        "\n",
        "# Second prompt template\n",
        "second_prompt = PromptTemplate(\n",
        "    input_variables=[\"introduction\"],\n",
        "    template=\"Based on this introduction, suggest 3 key points to expand upon: {introduction}\"\n",
        ")\n",
        "\n",
        "# Third prompt template\n",
        "third_prompt = PromptTemplate(\n",
        "    input_variables=[\"key_points\"],\n",
        "    template=\"For each of these key points, provide a brief explanation: {key_points}\"\n",
        ")\n",
        "\n",
        "# Create chains\n",
        "chain_one = LLMChain(llm=llm, prompt=first_prompt)\n",
        "chain_two = LLMChain(llm=llm, prompt=second_prompt)\n",
        "chain_three = LLMChain(llm=llm, prompt=third_prompt)\n",
        "\n",
        "# Create the sequential chain\n",
        "overall_chain = SimpleSequentialChain(\n",
        "    chains=[chain_one, chain_two, chain_three],\n",
        "    verbose=True\n",
        ")\n",
        "\n",
        "# Run the chain\n",
        "topic = \"Design a sustainable urban transportation system for a city of 1 million people. Consider factors such as environmental impact, cost-effectiveness, and accessibility for all reidents.\"\n",
        "result = overall_chain.run(topic)\n",
        "\n",
        "print(result)"
      ],
      "metadata": {
        "colab": {
          "base_uri": "https://localhost:8080/"
        },
        "id": "wlBagkatn7w5",
        "outputId": "106135c4-bba7-4462-9c68-563adc5985e3"
      },
      "execution_count": 11,
      "outputs": [
        {
          "output_type": "stream",
          "name": "stdout",
          "text": [
            "\n",
            "\n",
            "\u001b[1m> Entering new SimpleSequentialChain chain...\u001b[0m\n",
            "\u001b[36;1m\u001b[1;3mDesigning a sustainable urban transportation system for a city of 1 million people is a complex task that requires careful consideration of various factors. The goal of such a system should be to minimize environmental impact, maximize cost-effectiveness, and ensure accessibility for all residents.\n",
            "\n",
            "To achieve these objectives, a multi-modal transportation system that includes a mix of public transit, active transportation (such as walking and cycling), and shared mobility options (such as car-sharing and ride-hailing) would be ideal. Public transit, in particular, should be the backbone of the system, as it has the potential to move large numbers of people efficiently and with minimal environmental impact.\n",
            "\n",
            "When designing the public transit system, it is important to consider factors such as frequency, coverage, and convenience. The system should have frequent service on key corridors, extensive coverage to ensure that all residents have access to it, and convenient connections to other modes of transportation. Additionally, the system should be designed to prioritize the needs of low-income and marginalized communities, who often face barriers to accessing transportation options.\n",
            "\n",
            "Active transportation options, such as walking and cycling, should also be prioritized in the design of the transportation system. This can be achieved through the creation of safe and accessible infrastructure, such as separated bike lanes and wide sidewalks. Shared mobility options, such as car-sharing and ride-hailing, can also play a role in the system, particularly for trips that are not well-served by public transit or active transportation.\n",
            "\n",
            "When it comes to environmental impact, it is important to prioritize modes of transportation that have low emissions and minimal impact on air quality. Public transit, active transportation, and shared mobility options all have lower emissions than private vehicles, making them better choices for a sustainable transportation system.\n",
            "\n",
            "Cost-effectiveness is another important consideration in the design of a sustainable transportation system. While the upfront costs of building and maintaining a public transit system can be high, the long-term benefits often outweigh these costs. Public transit can reduce traffic congestion, which saves time and money for commuters and businesses. It can also reduce the need for costly road expansions and other infrastructure projects.\n",
            "\n",
            "In summary, designing a sustainable urban transportation system for a city of 1 million people requires careful consideration of environmental impact, cost-effectiveness, and accessibility for all residents. A multi-modal system that prioritizes public transit, active transportation, and shared mobility options can help achieve these objectives, while also prioritizing the needs of low-income and marginalized communities.\u001b[0m\n",
            "\u001b[33;1m\u001b[1;3mSure, here are three key points that could be expanded upon:\n",
            "\n",
            "1. Prioritizing public transit as the backbone of the sustainable urban transportation system: Public transit has the potential to move large numbers of people efficiently and with minimal environmental impact, making it an ideal mode of transportation for a city of 1 million people. When designing the public transit system, it is important to consider factors such as frequency, coverage, and convenience. The system should have frequent service on key corridors, extensive coverage to ensure that all residents have access to it, and convenient connections to other modes of transportation. Additionally, the system should be designed to prioritize the needs of low-income and marginalized communities, who often face barriers to accessing transportation options.\n",
            "2. Promoting active transportation options for short trips: Active transportation options such as walking and cycling have numerous benefits for both individuals and the environment. They are cost-effective, promote physical activity, and have minimal environmental impact. To promote active transportation, it is important to create safe and accessible infrastructure such as separated bike lanes and wide sidewalks. This can help to encourage more people to walk or cycle for short trips, reducing the number of car trips and improving air quality.\n",
            "3. Encouraging shared mobility options for select trips: Shared mobility options such as car-sharing and ride-hailing can play a role in the transportation system, particularly for trips that are not well-served by public transit or active transportation. Shared mobility options can help to reduce the number of cars on the road, which can improve traffic flow and reduce emissions. However, it is important to ensure that these options are accessible and affordable for all residents, and that they are integrated with other modes of transportation to create a seamless transportation system.\n",
            "\n",
            "Overall, designing a sustainable urban transportation system requires a multi-faceted approach that prioritizes low-emission modes of transportation, promotes physical activity, and ensures accessibility for all residents. By prioritizing public transit, promoting active transportation, and encouraging shared mobility options, cities can create a sustainable transportation system that meets the needs of their residents while also reducing environmental impact.\u001b[0m\n",
            "\u001b[38;5;200m\u001b[1;3m1. Prioritizing public transit as the backbone of the sustainable urban transportation system: Public transit is a crucial component of a sustainable urban transportation system because it has the capacity to move large numbers of people efficiently while producing minimal environmental impact. When designing a public transit system, it is essential to consider factors such as frequency, coverage, and convenience. This includes having frequent service along key corridors, extensive coverage to ensure all residents have access, and convenient connections to other modes of transportation. Moreover, it is important to prioritize the needs of low-income and marginalized communities, who often face barriers accessing transportation, by designing the system to be equitable.\n",
            "2. Promoting active transportation options for short trips: Active transportation options such as walking and cycling provide numerous benefits for individuals and the environment. They are affordable, encourage physical activity, and produce minimal emissions. To promote active transportation, cities should create safe and accessible infrastructure such as separated bike lanes and wide sidewalks. Implementing these measures can encourage people to walk or cycle for short trips, thereby reducing the number of car trips, improving air quality, and promoting public health.\n",
            "3. Encouraging shared mobility options for select trips: Shared mobility options such as car-sharing and ride-hailing can play a role in a sustainable urban transportation system, particularly for trips that are not well-served by public transit or active transportation. Shared mobility options can help reduce the number of cars on the road, which can improve traffic flow and reduce emissions. However, it is important to ensure that these options are accessible and affordable for all residents, and that they are integrated with other modes of transportation to create a seamless transportation system. Shared mobility options can complement public transit and active transportation, providing a holistic approach to sustainable urban transportation.\u001b[0m\n",
            "\n",
            "\u001b[1m> Finished chain.\u001b[0m\n",
            "1. Prioritizing public transit as the backbone of the sustainable urban transportation system: Public transit is a crucial component of a sustainable urban transportation system because it has the capacity to move large numbers of people efficiently while producing minimal environmental impact. When designing a public transit system, it is essential to consider factors such as frequency, coverage, and convenience. This includes having frequent service along key corridors, extensive coverage to ensure all residents have access, and convenient connections to other modes of transportation. Moreover, it is important to prioritize the needs of low-income and marginalized communities, who often face barriers accessing transportation, by designing the system to be equitable.\n",
            "2. Promoting active transportation options for short trips: Active transportation options such as walking and cycling provide numerous benefits for individuals and the environment. They are affordable, encourage physical activity, and produce minimal emissions. To promote active transportation, cities should create safe and accessible infrastructure such as separated bike lanes and wide sidewalks. Implementing these measures can encourage people to walk or cycle for short trips, thereby reducing the number of car trips, improving air quality, and promoting public health.\n",
            "3. Encouraging shared mobility options for select trips: Shared mobility options such as car-sharing and ride-hailing can play a role in a sustainable urban transportation system, particularly for trips that are not well-served by public transit or active transportation. Shared mobility options can help reduce the number of cars on the road, which can improve traffic flow and reduce emissions. However, it is important to ensure that these options are accessible and affordable for all residents, and that they are integrated with other modes of transportation to create a seamless transportation system. Shared mobility options can complement public transit and active transportation, providing a holistic approach to sustainable urban transportation.\n"
          ]
        }
      ]
    },
    {
      "cell_type": "code",
      "source": [],
      "metadata": {
        "id": "PBYbFxjPokXx"
      },
      "execution_count": null,
      "outputs": []
    }
  ]
}